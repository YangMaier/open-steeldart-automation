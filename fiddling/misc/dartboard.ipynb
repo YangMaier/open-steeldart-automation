{
 "cells": [
  {
   "cell_type": "markdown",
   "id": "5df18afa6730f1b7",
   "metadata": {},
   "source": [
    "# Installation\n",
    "Python Projekt anlegen\n",
    "pip install opencv-python\n",
    "pip install jupyter\n",
    "\n",
    "# Input\n",
    "Optischer Fluss aus genau einer Webcam\n",
    "\n",
    "# Verarbeitungsschritte\n"
   ]
  },
  {
   "cell_type": "code",
   "id": "282ba931343f4f06",
   "metadata": {
    "ExecuteTime": {
     "end_time": "2024-04-20T07:49:11.612873Z",
     "start_time": "2024-04-20T07:49:11.610870Z"
    }
   },
   "source": [
    "import cv2\n",
    "\n",
    "%matplotlib inline\n",
    "\n",
    "image = cv2.imread('lkw.png')\n",
    "\n",
    "cv2.imshow('lkw', image)\n",
    "cv2.startWindowThread()\n",
    "cv2.namedWindow(\"Vorschau\")\n",
    "cv2.waitKey(0)\n",
    "cv2.destroyAllWindows()\n",
    "cv2.waitKey(1) # Wichtig für Macintosh"
   ],
   "outputs": [],
   "execution_count": null
  },
  {
   "metadata": {},
   "cell_type": "code",
   "outputs": [],
   "execution_count": null,
   "source": "",
   "id": "721e38ad28f32405"
  }
 ],
 "metadata": {
  "kernelspec": {
   "display_name": "Python 3 (ipykernel)",
   "language": "python",
   "name": "python3"
  },
  "language_info": {
   "codemirror_mode": {
    "name": "ipython",
    "version": 2
   },
   "file_extension": ".py",
   "mimetype": "text/x-python",
   "name": "python",
   "nbconvert_exporter": "python",
   "pygments_lexer": "ipython2",
   "version": "2.7.6"
  }
 },
 "nbformat": 4,
 "nbformat_minor": 5
}
